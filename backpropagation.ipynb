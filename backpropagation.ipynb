{
 "cells": [
  {
   "cell_type": "code",
   "execution_count": 69,
   "id": "8fa2e6d1",
   "metadata": {},
   "outputs": [],
   "source": [
    "# 生成用于分类的数据，并为每个数据点打标签\n",
    "import numpy as np\n",
    "import matplotlib.pyplot as plt\n",
    "import math\n",
    "import random\n",
    "import copy\n",
    "\n",
    "def tag_entry(x,y):\n",
    "    if x**2+y**2<1:\n",
    "        tag=0\n",
    "    else:\n",
    "        tag=1\n",
    "    return tag\n",
    "\n",
    "def create_data(Number_of_Data):\n",
    "    entry_list=[]\n",
    "    for i in range (Number_of_Data):\n",
    "        x=random.uniform(-2,2)\n",
    "        y=random.uniform(-2,2)\n",
    "        tag=tag_entry(x,y)\n",
    "        entry_list.append([x,y,tag])\n",
    "    return np.array(entry_list)\n"
   ]
  },
  {
   "cell_type": "code",
   "execution_count": 70,
   "id": "ad52af57",
   "metadata": {},
   "outputs": [],
   "source": [
    "#可视化\n",
    "def plot_data(data,title):\n",
    "    colors=[]\n",
    "    for i in data[:,2]:\n",
    "        if i==0:\n",
    "            colors.append(\"orange\")\n",
    "        else:\n",
    "            colors.append(\"blue\")\n",
    "    plt.scatter(data[:,0],data[:,1],c=colors)\n",
    "    plt.title(title)\n",
    "    plt.show()\n"
   ]
  },
  {
   "cell_type": "code",
   "execution_count": 71,
   "id": "1b7bcc13",
   "metadata": {},
   "outputs": [],
   "source": [
    "def activation_ReLU(inputs):\n",
    "    return np.maximum(0,inputs)\n",
    "\n",
    "def activation_softmax(inputs):\n",
    "    max_value=np.max(inputs,axis=1,keepdims=True)\n",
    "    slided_inputs=inputs-max_value\n",
    "    exp_values=np.exp(slided_inputs)\n",
    "    norm_base=np.sum(exp_values,axis=1,keepdims=True)\n",
    "    norm_values=exp_values/norm_base\n",
    "    return norm_values"
   ]
  },
  {
   "cell_type": "code",
   "execution_count": null,
   "id": "1545b6c0",
   "metadata": {},
   "outputs": [],
   "source": [
    "class Layer:\n",
    "\n",
    "    def __init__(self,n_inputs,n_neurons):\n",
    "        self.weights=np.random.randn(n_inputs,n_neurons)  \n",
    "        self.biases=np.random.randn(n_neurons)  \n",
    "\n",
    "    def forward(self,inputs):\n",
    "        self.sum=np.dot(inputs,self.weights)+self.biases  \n",
    "        return self.sum  \n",
    "\n",
    "    def get_weights_adjust_matrix(self,preWeights_values,aftWeights_demands):\n",
    "        plain_weights=np.full(self.weights.shape,1)\n",
    "        weight_adjust_matrix=np.full(self.weights.shape,0)\n",
    "        plain_weights_T=plain_weights.T\n",
    "        for i in range(BATCH_SIZE):\n",
    "            weight_adjust_matrix+=(plain_weights_T*preWeights_values[i,:]).T*aftWeights_demands[i,:]\n",
    "        weight_adjust_matrix/=BATCH_SIZE\n",
    "        return weight_adjust_matrix"
   ]
  },
  {
   "cell_type": "markdown",
   "id": "b49787fc",
   "metadata": {},
   "source": [
    "返回的是权重梯度矩阵\n",
    "函数返回的是每个权重需要调整的梯度值，不是新的权重矩阵本身。\n",
    "\n",
    "这基于反向传播的链式法则：\n",
    "权重梯度公式：$$ ∂Loss/∂W[i,j] = ∂Loss/∂output[j] × ∂output[j]/∂W[i,j]$$\n",
    "其中：\n",
    "$$∂Loss/∂output[j] = aftWeights_demands[j] (当前层第j个神经元的误差)$$\n",
    "$$∂output[j]/∂W[i,j] = preWeights_values[i] (前一层第i个神经元的输出)$$\n",
    "\n",
    "直觉理解\n",
    "前一层输出越大 → 该权重对最终结果影响越大 → 梯度越大\n",
    "当前层需求越大 → 该神经元误差越大 → 对应权重需要更大调整\n",
    "所以 前一层输出 × 当前层需求 = 权重梯度\n",
    "这个梯度告诉我们权重应该往哪个方向、调整多少，用于后续的权重更新：new_weights = old_weights - learning_rate × 梯度"
   ]
  },
  {
   "cell_type": "code",
   "execution_count": 73,
   "id": "6db14314",
   "metadata": {},
   "outputs": [],
   "source": [
    "\n",
    "class Network:\n",
    "    def __init__(self,network_shape):\n",
    "        self.shape=network_shape\n",
    "        self.layers=[]\n",
    "        for i in range(len(network_shape)-1):\n",
    "            layer=Layer(network_shape[i],network_shape[i+1])\n",
    "            self.layers.append(layer)\n",
    "    #前馈运算\n",
    "    def network_forward(self,inputs):\n",
    "        outputs=[inputs]\n",
    "        for i in range(len(self.layers)):\n",
    "            layer_output=self.layers[i].forward(outputs[i])\n",
    "            if i==len(self.layers)-1:\n",
    "                layer_output=activation_softmax(layer_output)\n",
    "            else:\n",
    "                layer_output=activation_ReLU(layer_output)\n",
    "            outputs.append(layer_output)\n",
    "        return outputs"
   ]
  },
  {
   "cell_type": "code",
   "execution_count": 74,
   "id": "9779fa67",
   "metadata": {},
   "outputs": [],
   "source": [
    "#分类函数\n",
    "def classify(probabilities):\n",
    "    classification=np.rint(probabilities[:,1])\n",
    "    return classification"
   ]
  },
  {
   "cell_type": "code",
   "execution_count": 75,
   "id": "9c3f6fd3",
   "metadata": {},
   "outputs": [],
   "source": [
    "def precise_loss_function(predicted,real):\n",
    "\n",
    "    # 创建真实标签的one-hot编码矩阵\n",
    "    real_matrix=np.zeros((len(real),2))  # 使用是len(real)\n",
    "    real_matrix[:,1]=real.flatten()  # 使用flatten()将(1,5)转换为(5,)，赋值给第二列（正类）\n",
    "    real_matrix[:,0]=1-real  # 第一列为负类（1-正类标签）\n",
    "    print(\"真实标签补全矩阵:\\n\",real_matrix)\n",
    "    \n",
    "    # 计算预测值与真实标签的点积，沿axis=1求和\n",
    "    product=np.sum(predicted*real_matrix,axis=1)\n",
    "    \n",
    "    # 返回损失值：1减去点积\n",
    "    return 1-product\n"
   ]
  },
  {
   "cell_type": "code",
   "execution_count": 76,
   "id": "08b881d0",
   "metadata": {},
   "outputs": [],
   "source": [
    "def get_final_layer_preAct_demands(predicted_value,target_value):\n",
    "    \"\"\"\n",
    "    计算最终层激活前的需求值（demands），用于反向传播的梯度计算\n",
    "    \n",
    "    参数:\n",
    "    predicted_value: 预测概率值，形状为 (m, 2)，每行为一个样本的[负类概率, 正类概率]\n",
    "    target_value: 真实标签，形状为 (m,)，值为0或1\n",
    "    \n",
    "    返回:\n",
    "    target: 梯度信号向量，形状为 (m, 2)\n",
    "            - 如果预测正确：返回 [0, 0]（无需调整）\n",
    "            - 如果预测错误：返回放大的误差向量，指导权重如何调整\n",
    "    \"\"\"\n",
    "    # 创建one-hot编码矩阵\n",
    "    target=np.zeros((len(target_value),2))\n",
    "    target[:,1]=target_value  # 第二列为正类标签\n",
    "    target[:,0]=1-target_value  # 第一列为负类标签（1-正类）\n",
    "    \n",
    "    # 遍历每个样本\n",
    "    for i in range(len(predicted_value)):\n",
    "        # 计算预测值与真实标签的点积，判断预测是否正确\n",
    "        if np.dot(target[i],predicted_value[i])>0.5:\n",
    "            # 预测正确：点积>0.5，设置为零向量（无需调整权重）\n",
    "            target[i]=np.array([0,0])\n",
    "        else:\n",
    "            # 预测错误：计算放大的误差向量\n",
    "            # (target-0.5)*2 将-0.5~0.5的误差放大到-1~1，增强梯度信号\n",
    "            target[i]=(target[i]-0.5)*2\n",
    "    return target\n",
    "    "
   ]
  },
  {
   "cell_type": "code",
   "execution_count": null,
   "id": "50d7b078",
   "metadata": {},
   "outputs": [],
   "source": []
  }
 ],
 "metadata": {
  "kernelspec": {
   "display_name": "base",
   "language": "python",
   "name": "python3"
  },
  "language_info": {
   "codemirror_mode": {
    "name": "ipython",
    "version": 3
   },
   "file_extension": ".py",
   "mimetype": "text/x-python",
   "name": "python",
   "nbconvert_exporter": "python",
   "pygments_lexer": "ipython3",
   "version": "3.12.7"
  }
 },
 "nbformat": 4,
 "nbformat_minor": 5
}
