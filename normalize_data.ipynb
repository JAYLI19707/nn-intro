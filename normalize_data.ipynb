{
 "cells": [
  {
   "cell_type": "markdown",
   "id": "28fcf59d",
   "metadata": {},
   "source": [
    "这样做的目的是将每一行（即每个样本）中的最大绝对值缩放为1，其余元素按比例缩放到[-1, 1]之间。\n",
    "\n",
    "这样可以消除每个样本内部各特征的量纲影响，使得特征值在同一尺度上，便于后续模型训练和收敛。\n",
    "\n",
    "对于单个样本来说，这样归一化后，特征之间的相对大小关系被保留，且不会因为某一特征数值过大而主导模型。\n",
    "\n",
    "但对于不同样本之间，如果它们的原始数值范围差异很大，归一化后每一行的最大值都变成1，可能会掩盖样本间的绝对大小差异。\n",
    "\n",
    "例如，一个样本原始最大值是1000，另一个是1，归一化后都变成最大值1，模型可能无法区分它们的“量级”差别。\n",
    "\n",
    "因此，这种按行归一化适合于只关心样本内部特征比例、不关心样本间绝对大小的场景。\n",
    "\n",
    "如果需要保留样本间的绝对大小信息，建议采用全局归一化（如按所有样本的最大/最小值归一化）或标准化等方法。\n"
   ]
  },
  {
   "cell_type": "code",
   "execution_count": 7,
   "id": "c685ccca",
   "metadata": {},
   "outputs": [],
   "source": [
    "def normalize(array):\n",
    "    # 计算每一行的绝对值最大值\n",
    "    max_number = np.max(np.absolute(array), axis=1, keepdims=True)\n",
    "    # 防止除以0，如果最大值为0则缩放因子为1，否则为1/最大值\n",
    "    scaled_rate = np.where(max_number == 0, 1, 1 / max_number)\n",
    "    # 按行归一化\n",
    "    norm = array * scaled_rate\n",
    "    return norm"
   ]
  },
  {
   "cell_type": "code",
   "execution_count": 8,
   "id": "1a06de32",
   "metadata": {},
   "outputs": [
    {
     "name": "stdout",
     "output_type": "stream",
     "text": [
      "原始数据：\n",
      "[[ 1 -2  3]\n",
      " [ 0  0  0]\n",
      " [-4  2 -8]]\n",
      "归一化后：\n",
      "[[ 0.33333333 -0.66666667  1.        ]\n",
      " [ 0.          0.          0.        ]\n",
      " [-0.5         0.25       -1.        ]]\n"
     ]
    },
    {
     "name": "stderr",
     "output_type": "stream",
     "text": [
      "C:\\Users\\L\\AppData\\Local\\Temp\\ipykernel_70408\\1802554402.py:5: RuntimeWarning: divide by zero encountered in divide\n",
      "  scaled_rate = np.where(max_number == 0, 1, 1 / max_number)\n"
     ]
    }
   ],
   "source": [
    "\n",
    "import numpy as np\n",
    "\n",
    "# 构造测试数据\n",
    "test_array = np.array([\n",
    "    [1, -2, 3],\n",
    "    [0, 0, 0],\n",
    "    [-4, 2, -8]\n",
    "])\n",
    "\n",
    "# 调用normalize函数\n",
    "normalized_array = normalize(test_array)\n",
    "\n",
    "# 打印原始数据和归一化结果\n",
    "print(\"原始数据：\")\n",
    "print(test_array)\n",
    "print(\"归一化后：\")\n",
    "print(normalized_array)\n"
   ]
  },
  {
   "cell_type": "markdown",
   "id": "fc975a72",
   "metadata": {},
   "source": [
    "### 以下是归一输出后的神经网络展示\n"
   ]
  },
  {
   "cell_type": "code",
   "execution_count": 9,
   "id": "38844a7a",
   "metadata": {},
   "outputs": [],
   "source": [
    "def activation_ReLU(inputs):\n",
    "    return np.maximum(0,inputs)\n"
   ]
  },
  {
   "cell_type": "code",
   "execution_count": 10,
   "id": "3187cd21",
   "metadata": {},
   "outputs": [],
   "source": [
    "def activation_softmax(inputs):\n",
    "    max_value=np.max(inputs,axis=1,keepdims=True)\n",
    "    slided_inputs=inputs-max_value\n",
    "    exp_values=np.exp(slided_inputs)\n",
    "    norm_base=np.sum(exp_values,axis=1,keepdims=True)\n",
    "    norm_values=exp_values/norm_base\n",
    "    return norm_values"
   ]
  },
  {
   "cell_type": "code",
   "execution_count": 11,
   "id": "64a057d1",
   "metadata": {},
   "outputs": [],
   "source": [
    "\n",
    "class Layer:\n",
    "    def __init__(self,n_inputs,n_neurons):\n",
    "        self.weights=np.random.randn(n_inputs,n_neurons) \n",
    "        self.biases=np.random.randn(n_neurons)  \n",
    "\n",
    "    def forward(self,inputs):\n",
    "        self.sum=np.dot(inputs,self.weights)+self.biases \n",
    "        return self.sum  \n"
   ]
  },
  {
   "cell_type": "code",
   "execution_count": 12,
   "id": "5ffb7e79",
   "metadata": {},
   "outputs": [],
   "source": [
    "# normalize（归一化）函数可以在数据预处理阶段用于所有输入数据，也可以在模型输出阶段用于输出结果。  \n",
    "# 但在神经网络的实现中，通常只在以下两种场景用到：  \n",
    "# 1. **输入归一化**：在数据进入网络前，先对输入数据进行归一化，有助于模型更快收敛、提升数值稳定性。  \n",
    "# 2. **输出归一化**：有时在最后一层输出后，为了让输出满足某些范围（如[-1,1]或[0,1]），会对输出再次归一化。  \n",
    "# \n",
    "# 在你当前的Network实现中，normalize只在最后一层输出后用了一次（配合softmax），这是一种常见做法。  \n",
    "# 如果你希望输入也归一化，可以在数据送入网络前手动调用normalize。  \n",
    "# \n",
    "# 总结：normalize可以用在输入、输出，甚至中间层，具体要看你的任务需求和数据分布。\n",
    "\n",
    "class Network:\n",
    "    def __init__(self,network_shape):\n",
    "        self.shape=network_shape\n",
    "        self.layers=[]\n",
    "        for i in range(len(network_shape)-1):\n",
    "            layer=Layer(network_shape[i],network_shape[i+1])\n",
    "            self.layers.append(layer)\n",
    "    #前馈运算\n",
    "    def network_forward(self,inputs):\n",
    "        outputs=[inputs]\n",
    "        for i in range(len(self.layers)):\n",
    "            layer_output=self.layers[i].forward(outputs[i])\n",
    "            if i==len(self.layers)-1:\n",
    "                layer_output=activation_softmax(layer_output)\n",
    "                layer_output=normalize(layer_output)\n",
    "            else:\n",
    "                layer_output=activation_ReLU(layer_output)\n",
    "            outputs.append(layer_output)\n",
    "        return outputs"
   ]
  },
  {
   "cell_type": "code",
   "execution_count": 13,
   "id": "e780ac9f",
   "metadata": {},
   "outputs": [
    {
     "name": "stdout",
     "output_type": "stream",
     "text": [
      "第0层输出：\n",
      "[[1. 2.]\n",
      " [3. 4.]]\n",
      "\n",
      "第1层输出：\n",
      "[[0.         1.78641218 0.86516697]\n",
      " [0.90474576 2.38167321 1.98106916]]\n",
      "\n",
      "第2层输出：\n",
      "[[9.54814751e-03 1.00000000e+00]\n",
      " [9.49830761e-04 1.00000000e+00]]\n",
      "\n"
     ]
    }
   ],
   "source": [
    "# 测试 Network 类\n",
    "\n",
    "# 构造一个简单的网络结构，例如输入2维，隐藏层3维，输出2维\n",
    "network_shape = [2, 3, 2]\n",
    "net = Network(network_shape)\n",
    "\n",
    "# 构造一个简单的输入样本（比如2个样本，每个样本2个特征）\n",
    "X = np.array([[1.0, 2.0],\n",
    "              [3.0, 4.0]])\n",
    "\n",
    "# 前向传播\n",
    "outputs = net.network_forward(X)\n",
    "\n",
    "# 打印每一层的输出\n",
    "for idx, out in enumerate(outputs):\n",
    "    print(f\"第{idx}层输出：\\n{out}\\n\")\n"
   ]
  }
 ],
 "metadata": {
  "kernelspec": {
   "display_name": "base",
   "language": "python",
   "name": "python3"
  },
  "language_info": {
   "codemirror_mode": {
    "name": "ipython",
    "version": 3
   },
   "file_extension": ".py",
   "mimetype": "text/x-python",
   "name": "python",
   "nbconvert_exporter": "python",
   "pygments_lexer": "ipython3",
   "version": "3.12.7"
  }
 },
 "nbformat": 4,
 "nbformat_minor": 5
}
