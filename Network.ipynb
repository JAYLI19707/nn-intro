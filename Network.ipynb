{
 "cells": [
  {
   "cell_type": "code",
   "execution_count": 58,
   "id": "ae063f90",
   "metadata": {},
   "outputs": [],
   "source": [
    "#面向对象的层\n",
    "class Layer:\n",
    "    # 初始化函数,需要输入神经元个数和输入维度\n",
    "    # self.weights和self.biases是类的属性,需要用self.来定义\n",
    "    def __init__(self,n_inputs,n_neurons):\n",
    "        self.weights=np.random.randn(n_inputs,n_neurons)  # weights是每个神经元的权重矩阵\n",
    "        self.biases=np.random.randn(n_neurons)  # biases是每个神经元的偏置项\n",
    "\n",
    "    # 前向传播函数,需要输入数据\n",
    "    # self.sum和self.output是类的属性,需要用self.来定义\n",
    "    # inputs是函数的参数,直接使用即可\n",
    "\n",
    "    def forward(self,inputs):\n",
    "        # 在Python中,当我们使用self.sum时,Python会自动为类创建一个名为sum的属性\n",
    "        # 这是Python的动态特性 - 可以在运行时动态添加属性\n",
    "        # 调用方法:\n",
    "        # 1. 在类的其他方法中可以直接用self.sum访问\n",
    "        # 2. 在类的外部可以用实例名.sum访问,比如Layer1.sum\n",
    "        self.sum=np.dot(inputs,self.weights)+self.biases  # 计算加权和\n",
    "        self.output=activation_ReLU(self.sum)  # 经过激活函数\n",
    "        return self.output  # 返回输出结果\n"
   ]
  },
  {
   "cell_type": "code",
   "execution_count": 64,
   "id": "e68fee81",
   "metadata": {},
   "outputs": [],
   "source": [
    "# 之前有两个主要问题：\n",
    "# 1. Network类的构造函数写成了 _init_，应该是 __init__（前后各两个下划线），否则无法正确初始化对象。\n",
    "# 2. 由于构造函数未被正确调用，net=Network(network_shape) 会报错“Network() takes no arguments”。\n",
    "# 修改建议：将Network类中的 _init_ 改为 __init__，即可正常运行。\n",
    "class Network:\n",
    "    def __init__(self,network_shape):\n",
    "        self.shape=network_shape\n",
    "        self.layers=[]\n",
    "        for i in range(len(network_shape)-1):\n",
    "            layer=Layer(network_shape[i],network_shape[i+1])\n",
    "            self.layers.append(layer)\n",
    "    #前馈运算\n",
    "    def network_forward(self,inputs):\n",
    "        outputs=[inputs]\n",
    "        for i in range(len(self.layers)):\n",
    "            layer_output=self.layers[i].forward(outputs[i])\n",
    "            outputs.append(layer_output)\n",
    "        return outputs"
   ]
  },
  {
   "cell_type": "code",
   "execution_count": null,
   "id": "411d3b6b",
   "metadata": {},
   "outputs": [
    {
     "name": "stdout",
     "output_type": "stream",
     "text": [
      "[2, 3, 4, 2]\n",
      "[<__main__.Layer object at 0x0000016A6787A840>, <__main__.Layer object at 0x0000016A6787ADB0>, <__main__.Layer object at 0x0000016A6787ACF0>]\n",
      "[[-0.80180418 -0.78052182 -0.21421998]\n",
      " [-1.03933519 -0.84146056 -1.99844544]]\n",
      "[ 0.93413736  2.53291596 -1.9291405 ]\n",
      "[array([[0.1, 0.2],\n",
      "       [0.3, 0.4],\n",
      "       [0.5, 0.6]]), array([[0.64608991, 2.28657166, 0.        ],\n",
      "       [0.27786203, 1.96217519, 0.        ],\n",
      "       [0.        , 1.63777871, 0.        ]]), array([[3.60693038, 3.86358714, 0.77226722, 0.        ],\n",
      "       [2.83435156, 3.32913814, 0.76926948, 0.        ],\n",
      "       [2.08352838, 2.80791747, 0.72028825, 0.        ]]), array([[0., 0.],\n",
      "       [0., 0.],\n",
      "       [0., 0.]])]\n"
     ]
    }
   ],
   "source": [
    "# 下面是测试Network类和Layer类功能的代码\n",
    "\n",
    "network_shape=[2,3,4,2]\n",
    "inputs=np.array([[0.1,0.2],[0.3,0.4],[0.5,0.6]])\n",
    "def test():\n",
    "    net=Network(network_shape)\n",
    "    print(net.shape)\n",
    "    print(net.layers)\n",
    "    print(net.layers[0].weights)\n",
    "    print(net.layers[0].biases)\n",
    "    print(net.network_forward(inputs))\n",
    "test()\n"
   ]
  }
 ],
 "metadata": {
  "language_info": {
   "name": "python"
  }
 },
 "nbformat": 4,
 "nbformat_minor": 5
}
